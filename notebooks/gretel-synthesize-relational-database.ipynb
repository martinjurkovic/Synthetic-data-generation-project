{
  "cells": [
    {
      "cell_type": "markdown",
      "source": [
        "<a target=\"_blank\" href=\"https://colab.research.google.com/github/gretelai/gretel-blueprints/blob/main/docs/notebooks/synthesize_relational_database.ipynb\">\n",
        "  <img src=\"https://colab.research.google.com/assets/colab-badge.svg\" alt=\"Open In Colab\"/>\n",
        "</a>"
      ],
      "metadata": {
        "id": "Q0ffWpQtGQv3"
      }
    },
    {
      "cell_type": "markdown",
      "source": [
        "# Synthesize a Database with Gretel Relational\n",
        "\n",
        "This notebook uses [Gretel Relational Synthetics](https://docs.gretel.ai/reference/relational) to synthesize a sample telecommunications database. Try running the example below and compare the synthetic vs real world data for the example database. \n",
        "\n",
        "<img src=\"https://gretel-blueprints-pub.s3.us-west-2.amazonaws.com/rdb/telecom_db.png\"  width=\"70%\" height=\"70%\">"
      ],
      "metadata": {
        "id": "VQiqMoewdtmF"
      }
    },
    {
      "cell_type": "markdown",
      "source": [
        "## Getting Started"
      ],
      "metadata": {
        "id": "83KoGKH5eA-4"
      }
    },
    {
      "cell_type": "code",
      "execution_count": null,
      "metadata": {
        "collapsed": true,
        "id": "uu8M5yMc5DiT"
      },
      "outputs": [],
      "source": [
        "%%capture\n",
        "!pip install -U gretel-trainer"
      ]
    },
    {
      "cell_type": "code",
      "execution_count": null,
      "metadata": {
        "id": "RSvRE1X25DiW"
      },
      "outputs": [],
      "source": [
        "from gretel_trainer.relational import *"
      ]
    },
    {
      "cell_type": "code",
      "source": [
        "# # Download sample database\n",
        "# !wget https://gretel-blueprints-pub.s3.amazonaws.com/rdb/telecom.db"
      ],
      "metadata": {
        "id": "1zESRbHGy1tU"
      },
      "execution_count": null,
      "outputs": []
    },
    {
      "cell_type": "markdown",
      "source": [
        "## Define Source Data"
      ],
      "metadata": {
        "id": "6PM0dEEEsi4H"
      }
    },
    {
      "cell_type": "markdown",
      "source": [
        "### Input data via database connector\n",
        "For information on connecting to your own database using one of our 30+ connectors, [check out our docs](https://docs.gretel.ai/reference/relational/database-connectors)."
      ],
      "metadata": {
        "id": "HM2KEgl3eMXb"
      }
    },
    {
      "cell_type": "code",
      "source": [
        "# # Input data from database\n",
        "# from gretel_trainer.relational import sqlite_conn\n",
        "\n",
        "# db_path = \"telecom.db\"\n",
        "# sqlite = sqlite_conn(path=db_path)\n",
        "# relational_data = sqlite.extract()\n"
      ],
      "metadata": {
        "id": "Psa3cAaCshFq"
      },
      "execution_count": null,
      "outputs": []
    },
    {
      "cell_type": "markdown",
      "source": [
        "### Alternatively, manually define data from CSVs \n"
      ],
      "metadata": {
        "id": "Lsf3dqjzeP4p"
      }
    },
    {
      "cell_type": "code",
      "source": [
        "# @title\n",
        "#Alternatively, manually define relational data\n",
        "#Uncomment code to run\n",
        "\n",
        "from gretel_trainer.relational import RelationalData\n",
        "import pandas as pd\n",
        "\n",
        "csv_dir = \"content\"\n",
        "\n",
        "tables = [\n",
        "    #(\"table_name\", \"primary_key\")\n",
        "    (\"store\", \"Store\"),\n",
        "    (\"sales\", \"Sale\"),\n",
        "]\n",
        "\n",
        "foreign_keys = [\n",
        "    #(\"fkey_table.fkey\", \"pkey_table.pkey\")\n",
        "    (\"sales.Store\", \"store.Store\"),\n",
        "]\n",
        "\n",
        "relational_data = RelationalData()\n",
        "\n",
        "for table, pk in tables:\n",
        "    relational_data.add_table(name=table, primary_key=pk, data=pd.read_csv(f\"{csv_dir}/{table}.csv\"))\n",
        "\n",
        "for fk, ref in foreign_keys:\n",
        "    relational_data.add_foreign_key(foreign_key=fk, referencing=ref)"
      ],
      "metadata": {
        "id": "ODqYUAVBeEp2",
        "collapsed": true
      },
      "execution_count": null,
      "outputs": []
    },
    {
      "cell_type": "code",
      "source": [
        "#@title Preview source data\n",
        "#@markdown #### Confirm referential integrety by joining two tables\n",
        "#@markdown Every record in the child table matches a distinct record in the parent table. Therefore, the number of records in the joined data will match the number of records in the child table.\n",
        "\n",
        "\n",
        "from IPython.display import display, HTML\n",
        "\n",
        "def join_tables(parent: str, child: str, relational_data=relational_data):\n",
        "  p_key = relational_data.get_primary_key(parent)\n",
        "  f_key = \"\"\n",
        "  for fk in relational_data.get_foreign_keys(child):\n",
        "    if fk.parent_table_name==parent:\n",
        "      f_key=fk.column_name\n",
        "    else:\n",
        "      logging.warning(\"The input parent and child table must be related.\")\n",
        "  \n",
        "  parent_df = relational_data.get_table_data(parent)\n",
        "  child_df = relational_data.get_table_data(child)\n",
        "\n",
        "  joined_data = child_df.merge(parent_df, how=\"left\", left_on=p_key, right_on=f_key)\n",
        "\n",
        "  print(f\"Number of records in {child} table:\\t {len(child_df)}\")\n",
        "  print(f\"Number of records in {parent} table:\\t {len(parent_df)}\")\n",
        "  print(f\"Number of records in joined data:\\t {len(joined_data)}\")\n",
        "\n",
        "  return joined_data.head()\n",
        "\n",
        "\n",
        "parent_table = \"store\" #@param {type:\"string\"}\n",
        "child_table = \"sales\" #@param {type:\"string\"}\n",
        "\n",
        "print(\"\\033[1m Source Data: \\033[0m\")\n",
        "source_data = join_tables(parent_table, child_table)\n",
        "display(source_data)"
      ],
      "metadata": {
        "id": "fpEFMiWKCNgJ",
        "outputId": "edd8f0b8-f765-4804-ac51-e2c029433349",
        "colab": {
          "base_uri": "https://localhost:8080/",
          "height": 339
        }
      },
      "execution_count": null,
      "outputs": [
        {
          "output_type": "stream",
          "name": "stdout",
          "text": [
            "\u001b[1m Source Data: \u001b[0m\n",
            "Number of records in sales table:\t 1048575\n",
            "Number of records in store table:\t 1115\n",
            "Number of records in joined data:\t 1048575\n"
          ]
        },
        {
          "output_type": "display_data",
          "data": {
            "text/plain": [
              "   Sale  Store  DayOfWeek        Date    Sales  Customers  Open  Promo  \\\n",
              "0     1    1.0        5.0  31/07/2015   5263.0      555.0   1.0    1.0   \n",
              "1     2    2.0        5.0  31/07/2015   6064.0      625.0   1.0    1.0   \n",
              "2     3    3.0        5.0  31/07/2015   8314.0      821.0   1.0    1.0   \n",
              "3     4    4.0        5.0  31/07/2015  13995.0     1498.0   1.0    1.0   \n",
              "4     5    5.0        5.0  31/07/2015   4822.0      559.0   1.0    1.0   \n",
              "\n",
              "   StateHoliday  SchoolHoliday StoreType Assortment  CompetitionDistance  \\\n",
              "0           0.0            1.0         c          a               1270.0   \n",
              "1           0.0            1.0         a          a                570.0   \n",
              "2           0.0            1.0         a          a              14130.0   \n",
              "3           0.0            1.0         c          c                620.0   \n",
              "4           0.0            1.0         a          a              29910.0   \n",
              "\n",
              "   CompetitionOpenSinceMonth  CompetitionOpenSinceYear  Promo2  \\\n",
              "0                        9.0                    2008.0     0.0   \n",
              "1                       11.0                    2007.0     1.0   \n",
              "2                       12.0                    2006.0     1.0   \n",
              "3                        9.0                    2009.0     0.0   \n",
              "4                        4.0                    2015.0     0.0   \n",
              "\n",
              "   Promo2SinceWeek  Promo2SinceYear    PromoInterval  \n",
              "0              NaN              NaN              NaN  \n",
              "1             13.0           2010.0  Jan,Apr,Jul,Oct  \n",
              "2             14.0           2011.0  Jan,Apr,Jul,Oct  \n",
              "3              NaN              NaN              NaN  \n",
              "4              NaN              NaN              NaN  "
            ],
            "text/html": [
              "\n",
              "  <div id=\"df-4e16c180-c31d-4838-9533-7cc888781346\">\n",
              "    <div class=\"colab-df-container\">\n",
              "      <div>\n",
              "<style scoped>\n",
              "    .dataframe tbody tr th:only-of-type {\n",
              "        vertical-align: middle;\n",
              "    }\n",
              "\n",
              "    .dataframe tbody tr th {\n",
              "        vertical-align: top;\n",
              "    }\n",
              "\n",
              "    .dataframe thead th {\n",
              "        text-align: right;\n",
              "    }\n",
              "</style>\n",
              "<table border=\"1\" class=\"dataframe\">\n",
              "  <thead>\n",
              "    <tr style=\"text-align: right;\">\n",
              "      <th></th>\n",
              "      <th>Sale</th>\n",
              "      <th>Store</th>\n",
              "      <th>DayOfWeek</th>\n",
              "      <th>Date</th>\n",
              "      <th>Sales</th>\n",
              "      <th>Customers</th>\n",
              "      <th>Open</th>\n",
              "      <th>Promo</th>\n",
              "      <th>StateHoliday</th>\n",
              "      <th>SchoolHoliday</th>\n",
              "      <th>StoreType</th>\n",
              "      <th>Assortment</th>\n",
              "      <th>CompetitionDistance</th>\n",
              "      <th>CompetitionOpenSinceMonth</th>\n",
              "      <th>CompetitionOpenSinceYear</th>\n",
              "      <th>Promo2</th>\n",
              "      <th>Promo2SinceWeek</th>\n",
              "      <th>Promo2SinceYear</th>\n",
              "      <th>PromoInterval</th>\n",
              "    </tr>\n",
              "  </thead>\n",
              "  <tbody>\n",
              "    <tr>\n",
              "      <th>0</th>\n",
              "      <td>1</td>\n",
              "      <td>1.0</td>\n",
              "      <td>5.0</td>\n",
              "      <td>31/07/2015</td>\n",
              "      <td>5263.0</td>\n",
              "      <td>555.0</td>\n",
              "      <td>1.0</td>\n",
              "      <td>1.0</td>\n",
              "      <td>0.0</td>\n",
              "      <td>1.0</td>\n",
              "      <td>c</td>\n",
              "      <td>a</td>\n",
              "      <td>1270.0</td>\n",
              "      <td>9.0</td>\n",
              "      <td>2008.0</td>\n",
              "      <td>0.0</td>\n",
              "      <td>NaN</td>\n",
              "      <td>NaN</td>\n",
              "      <td>NaN</td>\n",
              "    </tr>\n",
              "    <tr>\n",
              "      <th>1</th>\n",
              "      <td>2</td>\n",
              "      <td>2.0</td>\n",
              "      <td>5.0</td>\n",
              "      <td>31/07/2015</td>\n",
              "      <td>6064.0</td>\n",
              "      <td>625.0</td>\n",
              "      <td>1.0</td>\n",
              "      <td>1.0</td>\n",
              "      <td>0.0</td>\n",
              "      <td>1.0</td>\n",
              "      <td>a</td>\n",
              "      <td>a</td>\n",
              "      <td>570.0</td>\n",
              "      <td>11.0</td>\n",
              "      <td>2007.0</td>\n",
              "      <td>1.0</td>\n",
              "      <td>13.0</td>\n",
              "      <td>2010.0</td>\n",
              "      <td>Jan,Apr,Jul,Oct</td>\n",
              "    </tr>\n",
              "    <tr>\n",
              "      <th>2</th>\n",
              "      <td>3</td>\n",
              "      <td>3.0</td>\n",
              "      <td>5.0</td>\n",
              "      <td>31/07/2015</td>\n",
              "      <td>8314.0</td>\n",
              "      <td>821.0</td>\n",
              "      <td>1.0</td>\n",
              "      <td>1.0</td>\n",
              "      <td>0.0</td>\n",
              "      <td>1.0</td>\n",
              "      <td>a</td>\n",
              "      <td>a</td>\n",
              "      <td>14130.0</td>\n",
              "      <td>12.0</td>\n",
              "      <td>2006.0</td>\n",
              "      <td>1.0</td>\n",
              "      <td>14.0</td>\n",
              "      <td>2011.0</td>\n",
              "      <td>Jan,Apr,Jul,Oct</td>\n",
              "    </tr>\n",
              "    <tr>\n",
              "      <th>3</th>\n",
              "      <td>4</td>\n",
              "      <td>4.0</td>\n",
              "      <td>5.0</td>\n",
              "      <td>31/07/2015</td>\n",
              "      <td>13995.0</td>\n",
              "      <td>1498.0</td>\n",
              "      <td>1.0</td>\n",
              "      <td>1.0</td>\n",
              "      <td>0.0</td>\n",
              "      <td>1.0</td>\n",
              "      <td>c</td>\n",
              "      <td>c</td>\n",
              "      <td>620.0</td>\n",
              "      <td>9.0</td>\n",
              "      <td>2009.0</td>\n",
              "      <td>0.0</td>\n",
              "      <td>NaN</td>\n",
              "      <td>NaN</td>\n",
              "      <td>NaN</td>\n",
              "    </tr>\n",
              "    <tr>\n",
              "      <th>4</th>\n",
              "      <td>5</td>\n",
              "      <td>5.0</td>\n",
              "      <td>5.0</td>\n",
              "      <td>31/07/2015</td>\n",
              "      <td>4822.0</td>\n",
              "      <td>559.0</td>\n",
              "      <td>1.0</td>\n",
              "      <td>1.0</td>\n",
              "      <td>0.0</td>\n",
              "      <td>1.0</td>\n",
              "      <td>a</td>\n",
              "      <td>a</td>\n",
              "      <td>29910.0</td>\n",
              "      <td>4.0</td>\n",
              "      <td>2015.0</td>\n",
              "      <td>0.0</td>\n",
              "      <td>NaN</td>\n",
              "      <td>NaN</td>\n",
              "      <td>NaN</td>\n",
              "    </tr>\n",
              "  </tbody>\n",
              "</table>\n",
              "</div>\n",
              "      <button class=\"colab-df-convert\" onclick=\"convertToInteractive('df-4e16c180-c31d-4838-9533-7cc888781346')\"\n",
              "              title=\"Convert this dataframe to an interactive table.\"\n",
              "              style=\"display:none;\">\n",
              "        \n",
              "  <svg xmlns=\"http://www.w3.org/2000/svg\" height=\"24px\"viewBox=\"0 0 24 24\"\n",
              "       width=\"24px\">\n",
              "    <path d=\"M0 0h24v24H0V0z\" fill=\"none\"/>\n",
              "    <path d=\"M18.56 5.44l.94 2.06.94-2.06 2.06-.94-2.06-.94-.94-2.06-.94 2.06-2.06.94zm-11 1L8.5 8.5l.94-2.06 2.06-.94-2.06-.94L8.5 2.5l-.94 2.06-2.06.94zm10 10l.94 2.06.94-2.06 2.06-.94-2.06-.94-.94-2.06-.94 2.06-2.06.94z\"/><path d=\"M17.41 7.96l-1.37-1.37c-.4-.4-.92-.59-1.43-.59-.52 0-1.04.2-1.43.59L10.3 9.45l-7.72 7.72c-.78.78-.78 2.05 0 2.83L4 21.41c.39.39.9.59 1.41.59.51 0 1.02-.2 1.41-.59l7.78-7.78 2.81-2.81c.8-.78.8-2.07 0-2.86zM5.41 20L4 18.59l7.72-7.72 1.47 1.35L5.41 20z\"/>\n",
              "  </svg>\n",
              "      </button>\n",
              "      \n",
              "  <style>\n",
              "    .colab-df-container {\n",
              "      display:flex;\n",
              "      flex-wrap:wrap;\n",
              "      gap: 12px;\n",
              "    }\n",
              "\n",
              "    .colab-df-convert {\n",
              "      background-color: #E8F0FE;\n",
              "      border: none;\n",
              "      border-radius: 50%;\n",
              "      cursor: pointer;\n",
              "      display: none;\n",
              "      fill: #1967D2;\n",
              "      height: 32px;\n",
              "      padding: 0 0 0 0;\n",
              "      width: 32px;\n",
              "    }\n",
              "\n",
              "    .colab-df-convert:hover {\n",
              "      background-color: #E2EBFA;\n",
              "      box-shadow: 0px 1px 2px rgba(60, 64, 67, 0.3), 0px 1px 3px 1px rgba(60, 64, 67, 0.15);\n",
              "      fill: #174EA6;\n",
              "    }\n",
              "\n",
              "    [theme=dark] .colab-df-convert {\n",
              "      background-color: #3B4455;\n",
              "      fill: #D2E3FC;\n",
              "    }\n",
              "\n",
              "    [theme=dark] .colab-df-convert:hover {\n",
              "      background-color: #434B5C;\n",
              "      box-shadow: 0px 1px 3px 1px rgba(0, 0, 0, 0.15);\n",
              "      filter: drop-shadow(0px 1px 2px rgba(0, 0, 0, 0.3));\n",
              "      fill: #FFFFFF;\n",
              "    }\n",
              "  </style>\n",
              "\n",
              "      <script>\n",
              "        const buttonEl =\n",
              "          document.querySelector('#df-4e16c180-c31d-4838-9533-7cc888781346 button.colab-df-convert');\n",
              "        buttonEl.style.display =\n",
              "          google.colab.kernel.accessAllowed ? 'block' : 'none';\n",
              "\n",
              "        async function convertToInteractive(key) {\n",
              "          const element = document.querySelector('#df-4e16c180-c31d-4838-9533-7cc888781346');\n",
              "          const dataTable =\n",
              "            await google.colab.kernel.invokeFunction('convertToInteractive',\n",
              "                                                     [key], {});\n",
              "          if (!dataTable) return;\n",
              "\n",
              "          const docLinkHtml = 'Like what you see? Visit the ' +\n",
              "            '<a target=\"_blank\" href=https://colab.research.google.com/notebooks/data_table.ipynb>data table notebook</a>'\n",
              "            + ' to learn more about interactive tables.';\n",
              "          element.innerHTML = '';\n",
              "          dataTable['output_type'] = 'display_data';\n",
              "          await google.colab.output.renderOutput(dataTable, element);\n",
              "          const docLink = document.createElement('div');\n",
              "          docLink.innerHTML = docLinkHtml;\n",
              "          element.appendChild(docLink);\n",
              "        }\n",
              "      </script>\n",
              "    </div>\n",
              "  </div>\n",
              "  "
            ]
          },
          "metadata": {}
        }
      ]
    },
    {
      "cell_type": "markdown",
      "metadata": {
        "id": "uUf6n5K95DiX"
      },
      "source": [
        "## Set up Relational Model and Create Project\n",
        "\n",
        "During this step, you will be prompted to input your API key, which can be found in the [Gretel Console](https://console.gretel.ai/users/me/key).\n",
        "\n",
        "Relational Synthetics will use Amplify by default. Alternatively, you can set `gretel_model=\"actgan\"` or `gretel_model=\"lstm\"`. "
      ]
    },
    {
      "cell_type": "code",
      "execution_count": null,
      "metadata": {
        "id": "UURUHwED5DiZ",
        "outputId": "9fc059a1-b992-4e49-b200-52c50c522376",
        "colab": {
          "base_uri": "https://localhost:8080/"
        }
      },
      "outputs": [
        {
          "output_type": "stream",
          "name": "stdout",
          "text": [
            "Found cached Gretel credentials\n",
            "Using endpoint https://api.gretel.cloud\n",
            "Logged in as vh0153@student.uni-lj.si ✅\n"
          ]
        },
        {
          "output_type": "stream",
          "name": "stderr",
          "text": [
            "INFO - 2023-04-13 12:24:15 - Created project `Synthesize Rossman Store Database - LSTM` with unique name `vh0153-2ac6b`.\n",
            "INFO - 2023-04-13 12:24:21 - Uploading initial configuration state to project.\n"
          ]
        }
      ],
      "source": [
        "from gretel_trainer.relational import MultiTable\n",
        "\n",
        "multitable = MultiTable(\n",
        "    relational_data,\n",
        "    project_display_name=\"Synthesize Rossman Store Database - LSTM\",\n",
        "    gretel_model=\"lstm\",\n",
        "    #refresh_interval=60\n",
        ")"
      ]
    },
    {
      "cell_type": "markdown",
      "metadata": {
        "id": "ubA2WBTGBFxs"
      },
      "source": [
        "## Synthesize Database"
      ]
    },
    {
      "cell_type": "code",
      "execution_count": null,
      "metadata": {
        "id": "NWEe445h5hIy",
        "outputId": "29fc5a96-1ecd-482f-e675-64705209a85b",
        "colab": {
          "base_uri": "https://localhost:8080/"
        }
      },
      "outputs": [
        {
          "output_type": "stream",
          "name": "stderr",
          "text": [
            "INFO - 2023-04-13 12:25:01 - Starting synthetics model training for `store`.\n",
            "INFO - 2023-04-13 12:25:03 - Starting synthetics model training for `sales`.\n",
            "INFO - 2023-04-13 12:25:06 - Next status check in 60 seconds.\n",
            "INFO - 2023-04-13 12:26:06 - Synthetics model training job for `store` still in progress (status: active).\n",
            "INFO - 2023-04-13 12:26:07 - Synthetics model training job for `sales` still in progress (status: active).\n",
            "INFO - 2023-04-13 12:26:07 - Next status check in 60 seconds.\n",
            "INFO - 2023-04-13 12:27:07 - Synthetics model training job for `store` still in progress (status: active).\n",
            "INFO - 2023-04-13 12:27:07 - Synthetics model training job for `sales` still in progress (status: active).\n",
            "INFO - 2023-04-13 12:27:07 - Next status check in 60 seconds.\n",
            "INFO - 2023-04-13 12:28:07 - Synthetics model training job for `store` still in progress (status: active).\n",
            "INFO - 2023-04-13 12:28:08 - Synthetics model training job for `sales` still in progress (status: active).\n",
            "INFO - 2023-04-13 12:28:08 - Next status check in 60 seconds.\n",
            "INFO - 2023-04-13 12:29:08 - Synthetics model training job for `store` still in progress (status: active).\n",
            "INFO - 2023-04-13 12:29:08 - Synthetics model training job for `sales` still in progress (status: active).\n",
            "INFO - 2023-04-13 12:29:08 - Next status check in 60 seconds.\n",
            "INFO - 2023-04-13 12:30:08 - Synthetics model training job for `store` still in progress (status: active).\n",
            "INFO - 2023-04-13 12:30:09 - Synthetics model training job for `sales` still in progress (status: active).\n",
            "INFO - 2023-04-13 12:30:09 - Next status check in 60 seconds.\n",
            "INFO - 2023-04-13 12:31:09 - Synthetics model training job for `store` still in progress (status: active).\n",
            "INFO - 2023-04-13 12:31:09 - Synthetics model training job for `sales` still in progress (status: active).\n",
            "INFO - 2023-04-13 12:31:09 - Next status check in 60 seconds.\n",
            "INFO - 2023-04-13 12:32:10 - Synthetics model training successfully completed for `store`.\n",
            "INFO - 2023-04-13 12:32:16 - Synthetics model training job for `sales` still in progress (status: active).\n",
            "INFO - 2023-04-13 12:32:16 - Next status check in 60 seconds.\n",
            "INFO - 2023-04-13 12:33:16 - Synthetics model training job for `sales` still in progress (status: active).\n",
            "INFO - 2023-04-13 12:33:16 - Next status check in 60 seconds.\n",
            "INFO - 2023-04-13 12:34:16 - Synthetics model training job for `sales` still in progress (status: active).\n",
            "INFO - 2023-04-13 12:34:16 - Next status check in 60 seconds.\n",
            "INFO - 2023-04-13 12:35:17 - Synthetics model training job for `sales` still in progress (status: active).\n",
            "INFO - 2023-04-13 12:35:17 - Next status check in 60 seconds.\n",
            "INFO - 2023-04-13 12:36:17 - Synthetics model training job for `sales` still in progress (status: active).\n",
            "INFO - 2023-04-13 12:36:17 - Next status check in 60 seconds.\n",
            "INFO - 2023-04-13 12:37:17 - Synthetics model training job for `sales` still in progress (status: active).\n",
            "INFO - 2023-04-13 12:37:17 - Next status check in 60 seconds.\n",
            "INFO - 2023-04-13 12:38:18 - Synthetics model training job for `sales` still in progress (status: active).\n",
            "INFO - 2023-04-13 12:38:18 - Next status check in 60 seconds.\n",
            "INFO - 2023-04-13 12:39:18 - Synthetics model training job for `sales` still in progress (status: active).\n",
            "INFO - 2023-04-13 12:39:18 - Next status check in 60 seconds.\n",
            "INFO - 2023-04-13 12:40:18 - Synthetics model training job for `sales` still in progress (status: active).\n",
            "INFO - 2023-04-13 12:40:18 - Next status check in 60 seconds.\n",
            "INFO - 2023-04-13 12:41:19 - Synthetics model training job for `sales` still in progress (status: active).\n",
            "INFO - 2023-04-13 12:41:19 - Next status check in 60 seconds.\n",
            "INFO - 2023-04-13 12:42:19 - Synthetics model training job for `sales` still in progress (status: active).\n",
            "INFO - 2023-04-13 12:42:19 - Next status check in 60 seconds.\n",
            "INFO - 2023-04-13 12:43:19 - Synthetics model training job for `sales` still in progress (status: active).\n",
            "INFO - 2023-04-13 12:43:19 - Next status check in 60 seconds.\n",
            "INFO - 2023-04-13 12:44:20 - Synthetics model training job for `sales` still in progress (status: active).\n",
            "INFO - 2023-04-13 12:44:20 - Next status check in 60 seconds.\n",
            "INFO - 2023-04-13 12:45:20 - Synthetics model training job for `sales` still in progress (status: active).\n",
            "INFO - 2023-04-13 12:45:20 - Next status check in 60 seconds.\n",
            "INFO - 2023-04-13 12:46:20 - Synthetics model training job for `sales` still in progress (status: active).\n",
            "INFO - 2023-04-13 12:46:20 - Next status check in 60 seconds.\n",
            "INFO - 2023-04-13 12:47:21 - Synthetics model training job for `sales` still in progress (status: active).\n",
            "INFO - 2023-04-13 12:47:21 - Next status check in 60 seconds.\n",
            "INFO - 2023-04-13 12:48:21 - Synthetics model training job for `sales` still in progress (status: active).\n",
            "INFO - 2023-04-13 12:48:21 - Next status check in 60 seconds.\n",
            "INFO - 2023-04-13 12:49:21 - Synthetics model training job for `sales` still in progress (status: active).\n",
            "INFO - 2023-04-13 12:49:21 - Next status check in 60 seconds.\n",
            "INFO - 2023-04-13 12:50:21 - Synthetics model training job for `sales` still in progress (status: active).\n",
            "INFO - 2023-04-13 12:50:21 - Next status check in 60 seconds.\n",
            "INFO - 2023-04-13 12:51:22 - Synthetics model training job for `sales` still in progress (status: active).\n",
            "INFO - 2023-04-13 12:51:22 - Next status check in 60 seconds.\n",
            "INFO - 2023-04-13 12:52:22 - Synthetics model training job for `sales` still in progress (status: active).\n",
            "INFO - 2023-04-13 12:52:22 - Next status check in 60 seconds.\n",
            "INFO - 2023-04-13 12:53:22 - Synthetics model training job for `sales` still in progress (status: active).\n",
            "INFO - 2023-04-13 12:53:22 - Next status check in 60 seconds.\n",
            "INFO - 2023-04-13 12:54:23 - Synthetics model training job for `sales` still in progress (status: active).\n",
            "INFO - 2023-04-13 12:54:23 - Next status check in 60 seconds.\n",
            "INFO - 2023-04-13 12:55:23 - Synthetics model training job for `sales` still in progress (status: active).\n",
            "INFO - 2023-04-13 12:55:23 - Next status check in 60 seconds.\n",
            "INFO - 2023-04-13 12:56:23 - Synthetics model training job for `sales` still in progress (status: active).\n",
            "INFO - 2023-04-13 12:56:23 - Next status check in 60 seconds.\n",
            "INFO - 2023-04-13 12:57:24 - Synthetics model training job for `sales` still in progress (status: active).\n",
            "INFO - 2023-04-13 12:57:24 - Next status check in 60 seconds.\n",
            "INFO - 2023-04-13 12:58:24 - Synthetics model training job for `sales` still in progress (status: active).\n",
            "INFO - 2023-04-13 12:58:24 - Next status check in 60 seconds.\n",
            "INFO - 2023-04-13 12:59:24 - Synthetics model training job for `sales` still in progress (status: active).\n",
            "INFO - 2023-04-13 12:59:24 - Next status check in 60 seconds.\n",
            "INFO - 2023-04-13 13:00:25 - Synthetics model training job for `sales` still in progress (status: active).\n",
            "INFO - 2023-04-13 13:00:25 - Next status check in 60 seconds.\n",
            "INFO - 2023-04-13 13:01:25 - Synthetics model training job for `sales` still in progress (status: active).\n",
            "INFO - 2023-04-13 13:01:25 - Next status check in 60 seconds.\n",
            "INFO - 2023-04-13 13:02:25 - Synthetics model training job for `sales` still in progress (status: active).\n",
            "INFO - 2023-04-13 13:02:25 - Next status check in 60 seconds.\n",
            "INFO - 2023-04-13 13:03:25 - Synthetics model training job for `sales` still in progress (status: active).\n",
            "INFO - 2023-04-13 13:03:25 - Next status check in 60 seconds.\n",
            "INFO - 2023-04-13 13:04:26 - Synthetics model training job for `sales` still in progress (status: active).\n",
            "INFO - 2023-04-13 13:04:26 - Next status check in 60 seconds.\n",
            "INFO - 2023-04-13 13:05:26 - Synthetics model training job for `sales` still in progress (status: active).\n",
            "INFO - 2023-04-13 13:05:26 - Next status check in 60 seconds.\n",
            "INFO - 2023-04-13 13:06:26 - Synthetics model training job for `sales` still in progress (status: active).\n",
            "INFO - 2023-04-13 13:06:26 - Next status check in 60 seconds.\n",
            "INFO - 2023-04-13 13:07:26 - Synthetics model training job for `sales` still in progress (status: active).\n",
            "INFO - 2023-04-13 13:07:26 - Next status check in 60 seconds.\n",
            "INFO - 2023-04-13 13:08:27 - Synthetics model training job for `sales` still in progress (status: active).\n",
            "INFO - 2023-04-13 13:08:27 - Next status check in 60 seconds.\n",
            "INFO - 2023-04-13 13:09:27 - Synthetics model training job for `sales` still in progress (status: active).\n",
            "INFO - 2023-04-13 13:09:27 - Next status check in 60 seconds.\n",
            "INFO - 2023-04-13 13:10:28 - Synthetics model training job for `sales` still in progress (status: active).\n",
            "INFO - 2023-04-13 13:10:28 - Next status check in 60 seconds.\n",
            "INFO - 2023-04-13 13:11:28 - Synthetics model training job for `sales` still in progress (status: active).\n",
            "INFO - 2023-04-13 13:11:28 - Next status check in 60 seconds.\n",
            "INFO - 2023-04-13 13:12:28 - Synthetics model training job for `sales` still in progress (status: active).\n",
            "INFO - 2023-04-13 13:12:28 - Next status check in 60 seconds.\n",
            "INFO - 2023-04-13 13:13:28 - Synthetics model training successfully completed for `sales`.\n",
            "INFO - 2023-04-13 13:13:29 - Downloading individual evaluation reports for `store`.\n",
            "INFO - 2023-04-13 13:13:36 - Downloading individual evaluation reports for `sales`.\n"
          ]
        }
      ],
      "source": [
        "multitable.train()"
      ]
    },
    {
      "cell_type": "code",
      "execution_count": null,
      "metadata": {
        "id": "lTPtgdNcBI7A",
        "outputId": "79689aae-ed9e-429c-97f2-35b093640d84",
        "colab": {
          "base_uri": "https://localhost:8080/",
          "height": 501
        }
      },
      "outputs": [
        {
          "output_type": "stream",
          "name": "stderr",
          "text": [
            "INFO - 2023-04-13 13:13:45 - Starting synthetics run `synthetics_20230413131345`\n",
            "INFO - 2023-04-13 13:13:45 - Starting synthetic data generation for `store`.\n"
          ]
        },
        {
          "output_type": "error",
          "ename": "ForbiddenException",
          "evalue": "ignored",
          "traceback": [
            "\u001b[0;31m---------------------------------------------------------------------------\u001b[0m",
            "\u001b[0;31mForbiddenException\u001b[0m                        Traceback (most recent call last)",
            "\u001b[0;32m<ipython-input-29-d195da664361>\u001b[0m in \u001b[0;36m<cell line: 1>\u001b[0;34m()\u001b[0m\n\u001b[0;32m----> 1\u001b[0;31m \u001b[0mmultitable\u001b[0m\u001b[0;34m.\u001b[0m\u001b[0mgenerate\u001b[0m\u001b[0;34m(\u001b[0m\u001b[0mrecord_size_ratio\u001b[0m\u001b[0;34m=\u001b[0m\u001b[0;36m1\u001b[0m\u001b[0;34m)\u001b[0m       \u001b[0;31m# To adjust the amount of data generated, change record_size_ratio parameter\u001b[0m\u001b[0;34m\u001b[0m\u001b[0;34m\u001b[0m\u001b[0m\n\u001b[0m\u001b[1;32m      2\u001b[0m \u001b[0;34m\u001b[0m\u001b[0m\n",
            "\u001b[0;32m/usr/local/lib/python3.9/dist-packages/gretel_trainer/relational/multi_table.py\u001b[0m in \u001b[0;36mgenerate\u001b[0;34m(self, record_size_ratio, preserve_tables, identifier, resume)\u001b[0m\n\u001b[1;32m    711\u001b[0m             \u001b[0mmultitable\u001b[0m\u001b[0;34m=\u001b[0m\u001b[0mself\u001b[0m\u001b[0;34m,\u001b[0m\u001b[0;34m\u001b[0m\u001b[0;34m\u001b[0m\u001b[0m\n\u001b[1;32m    712\u001b[0m         )\n\u001b[0;32m--> 713\u001b[0;31m         \u001b[0mrun_task\u001b[0m\u001b[0;34m(\u001b[0m\u001b[0mtask\u001b[0m\u001b[0;34m)\u001b[0m\u001b[0;34m\u001b[0m\u001b[0;34m\u001b[0m\u001b[0m\n\u001b[0m\u001b[1;32m    714\u001b[0m \u001b[0;34m\u001b[0m\u001b[0m\n\u001b[1;32m    715\u001b[0m         output_tables = self._strategy.post_process_synthetic_results(\n",
            "\u001b[0;32m/usr/local/lib/python3.9/dist-packages/gretel_trainer/relational/task_runner.py\u001b[0m in \u001b[0;36mrun_task\u001b[0;34m(task)\u001b[0m\n\u001b[1;32m    108\u001b[0m                 \u001b[0m_log_in_progress\u001b[0m\u001b[0;34m(\u001b[0m\u001b[0mtable_name\u001b[0m\u001b[0;34m,\u001b[0m \u001b[0mstatus\u001b[0m\u001b[0;34m,\u001b[0m \u001b[0mtask\u001b[0m\u001b[0;34m.\u001b[0m\u001b[0maction\u001b[0m\u001b[0;34m)\u001b[0m\u001b[0;34m\u001b[0m\u001b[0;34m\u001b[0m\u001b[0m\n\u001b[1;32m    109\u001b[0m \u001b[0;34m\u001b[0m\u001b[0m\n\u001b[0;32m--> 110\u001b[0;31m         \u001b[0mtask\u001b[0m\u001b[0;34m.\u001b[0m\u001b[0meach_iteration\u001b[0m\u001b[0;34m(\u001b[0m\u001b[0;34m)\u001b[0m\u001b[0;34m\u001b[0m\u001b[0;34m\u001b[0m\u001b[0m\n\u001b[0m\u001b[1;32m    111\u001b[0m \u001b[0;34m\u001b[0m\u001b[0m\n\u001b[1;32m    112\u001b[0m \u001b[0;34m\u001b[0m\u001b[0m\n",
            "\u001b[0;32m/usr/local/lib/python3.9/dist-packages/gretel_trainer/relational/tasks/synthetics_run.py\u001b[0m in \u001b[0;36meach_iteration\u001b[0;34m(self)\u001b[0m\n\u001b[1;32m    140\u001b[0m             \u001b[0;31m# Attempt starting the record handler right away. If it can't start right at this moment,\u001b[0m\u001b[0;34m\u001b[0m\u001b[0;34m\u001b[0m\u001b[0m\n\u001b[1;32m    141\u001b[0m             \u001b[0;31m# the regular task runner check will handle starting it when possible.\u001b[0m\u001b[0;34m\u001b[0m\u001b[0;34m\u001b[0m\u001b[0m\n\u001b[0;32m--> 142\u001b[0;31m             start_job_if_possible(\n\u001b[0m\u001b[1;32m    143\u001b[0m                 \u001b[0mjob\u001b[0m\u001b[0;34m=\u001b[0m\u001b[0mrecord_handler\u001b[0m\u001b[0;34m,\u001b[0m\u001b[0;34m\u001b[0m\u001b[0;34m\u001b[0m\u001b[0m\n\u001b[1;32m    144\u001b[0m                 \u001b[0mtable_name\u001b[0m\u001b[0;34m=\u001b[0m\u001b[0mtable_name\u001b[0m\u001b[0;34m,\u001b[0m\u001b[0;34m\u001b[0m\u001b[0;34m\u001b[0m\u001b[0m\n",
            "\u001b[0;32m/usr/local/lib/python3.9/dist-packages/gretel_trainer/relational/sdk_extras.py\u001b[0m in \u001b[0;36mstart_job_if_possible\u001b[0;34m(job, table_name, action, project, number_of_artifacts)\u001b[0m\n\u001b[1;32m     93\u001b[0m     \u001b[0;32mif\u001b[0m \u001b[0mjob\u001b[0m\u001b[0;34m.\u001b[0m\u001b[0mdata_source\u001b[0m \u001b[0;32mis\u001b[0m \u001b[0;32mNone\u001b[0m \u001b[0;32mor\u001b[0m \u001b[0mroom_in_project\u001b[0m\u001b[0;34m(\u001b[0m\u001b[0mproject\u001b[0m\u001b[0;34m,\u001b[0m \u001b[0mnumber_of_artifacts\u001b[0m\u001b[0;34m)\u001b[0m\u001b[0;34m:\u001b[0m\u001b[0;34m\u001b[0m\u001b[0;34m\u001b[0m\u001b[0m\n\u001b[1;32m     94\u001b[0m         \u001b[0m_log_start\u001b[0m\u001b[0;34m(\u001b[0m\u001b[0mtable_name\u001b[0m\u001b[0;34m,\u001b[0m \u001b[0maction\u001b[0m\u001b[0;34m)\u001b[0m\u001b[0;34m\u001b[0m\u001b[0;34m\u001b[0m\u001b[0m\n\u001b[0;32m---> 95\u001b[0;31m         \u001b[0mjob\u001b[0m\u001b[0;34m.\u001b[0m\u001b[0msubmit_cloud\u001b[0m\u001b[0;34m(\u001b[0m\u001b[0;34m)\u001b[0m\u001b[0;34m\u001b[0m\u001b[0;34m\u001b[0m\u001b[0m\n\u001b[0m\u001b[1;32m     96\u001b[0m     \u001b[0;32melse\u001b[0m\u001b[0;34m:\u001b[0m\u001b[0;34m\u001b[0m\u001b[0;34m\u001b[0m\u001b[0m\n\u001b[1;32m     97\u001b[0m         \u001b[0m_log_waiting\u001b[0m\u001b[0;34m(\u001b[0m\u001b[0mtable_name\u001b[0m\u001b[0;34m,\u001b[0m \u001b[0maction\u001b[0m\u001b[0;34m)\u001b[0m\u001b[0;34m\u001b[0m\u001b[0;34m\u001b[0m\u001b[0m\n",
            "\u001b[0;32m/usr/local/lib/python3.9/dist-packages/gretel_client/projects/jobs.py\u001b[0m in \u001b[0;36msubmit_cloud\u001b[0;34m(self, dry_run)\u001b[0m\n\u001b[1;32m    145\u001b[0m             \u001b[0mThe\u001b[0m \u001b[0mresponse\u001b[0m \u001b[0;32mfrom\u001b[0m \u001b[0mthe\u001b[0m \u001b[0mGretel\u001b[0m \u001b[0mAPI\u001b[0m\u001b[0;34m.\u001b[0m\u001b[0;34m\u001b[0m\u001b[0;34m\u001b[0m\u001b[0m\n\u001b[1;32m    146\u001b[0m         \"\"\"\n\u001b[0;32m--> 147\u001b[0;31m         return self._submit_remote(\n\u001b[0m\u001b[1;32m    148\u001b[0m             \u001b[0mrunner_mode\u001b[0m\u001b[0;34m=\u001b[0m\u001b[0mRunnerMode\u001b[0m\u001b[0;34m.\u001b[0m\u001b[0mCLOUD\u001b[0m\u001b[0;34m,\u001b[0m\u001b[0;34m\u001b[0m\u001b[0;34m\u001b[0m\u001b[0m\n\u001b[1;32m    149\u001b[0m             \u001b[0martifacts_handler\u001b[0m\u001b[0;34m=\u001b[0m\u001b[0mself\u001b[0m\u001b[0;34m.\u001b[0m\u001b[0mproject\u001b[0m\u001b[0;34m.\u001b[0m\u001b[0mcloud_artifacts_handler\u001b[0m\u001b[0;34m,\u001b[0m\u001b[0;34m\u001b[0m\u001b[0;34m\u001b[0m\u001b[0m\n",
            "\u001b[0;32m/usr/local/lib/python3.9/dist-packages/gretel_client/projects/jobs.py\u001b[0m in \u001b[0;36m_submit_remote\u001b[0;34m(self, runner_mode, artifacts_handler, dry_run)\u001b[0m\n\u001b[1;32m    179\u001b[0m             \u001b[0mself\u001b[0m\u001b[0;34m.\u001b[0m\u001b[0mupload_ref_data\u001b[0m\u001b[0;34m(\u001b[0m\u001b[0m_artifacts_handler\u001b[0m\u001b[0;34m=\u001b[0m\u001b[0martifacts_handler\u001b[0m\u001b[0;34m)\u001b[0m\u001b[0;34m\u001b[0m\u001b[0;34m\u001b[0m\u001b[0m\n\u001b[1;32m    180\u001b[0m \u001b[0;34m\u001b[0m\u001b[0m\n\u001b[0;32m--> 181\u001b[0;31m         \u001b[0;32mreturn\u001b[0m \u001b[0mself\u001b[0m\u001b[0;34m.\u001b[0m\u001b[0m_submit\u001b[0m\u001b[0;34m(\u001b[0m\u001b[0mrunner_mode\u001b[0m\u001b[0;34m=\u001b[0m\u001b[0mrunner_mode\u001b[0m\u001b[0;34m,\u001b[0m \u001b[0mdry_run\u001b[0m\u001b[0;34m=\u001b[0m\u001b[0mdry_run\u001b[0m\u001b[0;34m)\u001b[0m\u001b[0;34m\u001b[0m\u001b[0;34m\u001b[0m\u001b[0m\n\u001b[0m\u001b[1;32m    182\u001b[0m \u001b[0;34m\u001b[0m\u001b[0m\n\u001b[1;32m    183\u001b[0m     \u001b[0;34m@\u001b[0m\u001b[0mabstractmethod\u001b[0m\u001b[0;34m\u001b[0m\u001b[0;34m\u001b[0m\u001b[0m\n",
            "\u001b[0;32m/usr/local/lib/python3.9/dist-packages/gretel_client/projects/records.py\u001b[0m in \u001b[0;36m_submit\u001b[0;34m(self, runner_mode, **kwargs)\u001b[0m\n\u001b[1;32m     59\u001b[0m         \u001b[0mbody\u001b[0m \u001b[0;34m=\u001b[0m \u001b[0;34m{\u001b[0m\u001b[0mkey\u001b[0m\u001b[0;34m:\u001b[0m \u001b[0mvalue\u001b[0m \u001b[0;32mfor\u001b[0m \u001b[0mkey\u001b[0m\u001b[0;34m,\u001b[0m \u001b[0mvalue\u001b[0m \u001b[0;32min\u001b[0m \u001b[0mbody\u001b[0m\u001b[0;34m.\u001b[0m\u001b[0mitems\u001b[0m\u001b[0;34m(\u001b[0m\u001b[0;34m)\u001b[0m \u001b[0;32mif\u001b[0m \u001b[0mvalue\u001b[0m \u001b[0;32mis\u001b[0m \u001b[0;32mnot\u001b[0m \u001b[0;32mNone\u001b[0m\u001b[0;34m}\u001b[0m\u001b[0;34m\u001b[0m\u001b[0;34m\u001b[0m\u001b[0m\n\u001b[1;32m     60\u001b[0m \u001b[0;34m\u001b[0m\u001b[0m\n\u001b[0;32m---> 61\u001b[0;31m         handler = self.model._projects_api.create_record_handler(\n\u001b[0m\u001b[1;32m     62\u001b[0m             \u001b[0mproject_id\u001b[0m\u001b[0;34m=\u001b[0m\u001b[0mself\u001b[0m\u001b[0;34m.\u001b[0m\u001b[0mmodel\u001b[0m\u001b[0;34m.\u001b[0m\u001b[0mproject\u001b[0m\u001b[0;34m.\u001b[0m\u001b[0mproject_id\u001b[0m\u001b[0;34m,\u001b[0m\u001b[0;34m\u001b[0m\u001b[0;34m\u001b[0m\u001b[0m\n\u001b[1;32m     63\u001b[0m             \u001b[0mmodel_id\u001b[0m\u001b[0;34m=\u001b[0m\u001b[0mself\u001b[0m\u001b[0;34m.\u001b[0m\u001b[0mmodel\u001b[0m\u001b[0;34m.\u001b[0m\u001b[0mmodel_id\u001b[0m\u001b[0;34m,\u001b[0m\u001b[0;34m\u001b[0m\u001b[0;34m\u001b[0m\u001b[0m\n",
            "\u001b[0;32m/usr/local/lib/python3.9/dist-packages/gretel_client/rest/api_client.py\u001b[0m in \u001b[0;36m__call__\u001b[0;34m(self, *args, **kwargs)\u001b[0m\n\u001b[1;32m    844\u001b[0m \u001b[0;34m\u001b[0m\u001b[0m\n\u001b[1;32m    845\u001b[0m         \"\"\"\n\u001b[0;32m--> 846\u001b[0;31m         \u001b[0;32mreturn\u001b[0m \u001b[0mself\u001b[0m\u001b[0;34m.\u001b[0m\u001b[0mcallable\u001b[0m\u001b[0;34m(\u001b[0m\u001b[0mself\u001b[0m\u001b[0;34m,\u001b[0m \u001b[0;34m*\u001b[0m\u001b[0margs\u001b[0m\u001b[0;34m,\u001b[0m \u001b[0;34m**\u001b[0m\u001b[0mkwargs\u001b[0m\u001b[0;34m)\u001b[0m\u001b[0;34m\u001b[0m\u001b[0;34m\u001b[0m\u001b[0m\n\u001b[0m\u001b[1;32m    847\u001b[0m \u001b[0;34m\u001b[0m\u001b[0m\n\u001b[1;32m    848\u001b[0m     \u001b[0;32mdef\u001b[0m \u001b[0mcall_with_http_info\u001b[0m\u001b[0;34m(\u001b[0m\u001b[0mself\u001b[0m\u001b[0;34m,\u001b[0m \u001b[0;34m**\u001b[0m\u001b[0mkwargs\u001b[0m\u001b[0;34m)\u001b[0m\u001b[0;34m:\u001b[0m\u001b[0;34m\u001b[0m\u001b[0;34m\u001b[0m\u001b[0m\n",
            "\u001b[0;32m/usr/local/lib/python3.9/dist-packages/gretel_client/rest/api/projects_api.py\u001b[0m in \u001b[0;36m__create_record_handler\u001b[0;34m(self, project_id, model_id, **kwargs)\u001b[0m\n\u001b[1;32m    440\u001b[0m             \u001b[0mkwargs\u001b[0m\u001b[0;34m[\u001b[0m\u001b[0;34m\"project_id\"\u001b[0m\u001b[0;34m]\u001b[0m \u001b[0;34m=\u001b[0m \u001b[0mproject_id\u001b[0m\u001b[0;34m\u001b[0m\u001b[0;34m\u001b[0m\u001b[0m\n\u001b[1;32m    441\u001b[0m             \u001b[0mkwargs\u001b[0m\u001b[0;34m[\u001b[0m\u001b[0;34m\"model_id\"\u001b[0m\u001b[0;34m]\u001b[0m \u001b[0;34m=\u001b[0m \u001b[0mmodel_id\u001b[0m\u001b[0;34m\u001b[0m\u001b[0;34m\u001b[0m\u001b[0m\n\u001b[0;32m--> 442\u001b[0;31m             \u001b[0;32mreturn\u001b[0m \u001b[0mself\u001b[0m\u001b[0;34m.\u001b[0m\u001b[0mcall_with_http_info\u001b[0m\u001b[0;34m(\u001b[0m\u001b[0;34m**\u001b[0m\u001b[0mkwargs\u001b[0m\u001b[0;34m)\u001b[0m\u001b[0;34m\u001b[0m\u001b[0;34m\u001b[0m\u001b[0m\n\u001b[0m\u001b[1;32m    443\u001b[0m \u001b[0;34m\u001b[0m\u001b[0m\n\u001b[1;32m    444\u001b[0m         self.create_record_handler = _Endpoint(\n",
            "\u001b[0;32m/usr/local/lib/python3.9/dist-packages/gretel_client/rest/api_client.py\u001b[0m in \u001b[0;36mcall_with_http_info\u001b[0;34m(self, **kwargs)\u001b[0m\n\u001b[1;32m    917\u001b[0m             \u001b[0mparams\u001b[0m\u001b[0;34m[\u001b[0m\u001b[0;34m\"header\"\u001b[0m\u001b[0;34m]\u001b[0m\u001b[0;34m[\u001b[0m\u001b[0;34m\"Content-Type\"\u001b[0m\u001b[0;34m]\u001b[0m \u001b[0;34m=\u001b[0m \u001b[0mheader_list\u001b[0m\u001b[0;34m\u001b[0m\u001b[0;34m\u001b[0m\u001b[0m\n\u001b[1;32m    918\u001b[0m \u001b[0;34m\u001b[0m\u001b[0m\n\u001b[0;32m--> 919\u001b[0;31m         return self.api_client.call_api(\n\u001b[0m\u001b[1;32m    920\u001b[0m             \u001b[0mself\u001b[0m\u001b[0;34m.\u001b[0m\u001b[0msettings\u001b[0m\u001b[0;34m[\u001b[0m\u001b[0;34m\"endpoint_path\"\u001b[0m\u001b[0;34m]\u001b[0m\u001b[0;34m,\u001b[0m\u001b[0;34m\u001b[0m\u001b[0;34m\u001b[0m\u001b[0m\n\u001b[1;32m    921\u001b[0m             \u001b[0mself\u001b[0m\u001b[0;34m.\u001b[0m\u001b[0msettings\u001b[0m\u001b[0;34m[\u001b[0m\u001b[0;34m\"http_method\"\u001b[0m\u001b[0;34m]\u001b[0m\u001b[0;34m,\u001b[0m\u001b[0;34m\u001b[0m\u001b[0;34m\u001b[0m\u001b[0m\n",
            "\u001b[0;32m/usr/local/lib/python3.9/dist-packages/gretel_client/rest/api_client.py\u001b[0m in \u001b[0;36mcall_api\u001b[0;34m(self, resource_path, method, path_params, query_params, header_params, body, post_params, files, response_type, auth_settings, async_req, _return_http_data_only, collection_formats, _preload_content, _request_timeout, _host, _check_type)\u001b[0m\n\u001b[1;32m    426\u001b[0m         \"\"\"\n\u001b[1;32m    427\u001b[0m         \u001b[0;32mif\u001b[0m \u001b[0;32mnot\u001b[0m \u001b[0masync_req\u001b[0m\u001b[0;34m:\u001b[0m\u001b[0;34m\u001b[0m\u001b[0;34m\u001b[0m\u001b[0m\n\u001b[0;32m--> 428\u001b[0;31m             return self.__call_api(\n\u001b[0m\u001b[1;32m    429\u001b[0m                 \u001b[0mresource_path\u001b[0m\u001b[0;34m,\u001b[0m\u001b[0;34m\u001b[0m\u001b[0;34m\u001b[0m\u001b[0m\n\u001b[1;32m    430\u001b[0m                 \u001b[0mmethod\u001b[0m\u001b[0;34m,\u001b[0m\u001b[0;34m\u001b[0m\u001b[0;34m\u001b[0m\u001b[0m\n",
            "\u001b[0;32m/usr/local/lib/python3.9/dist-packages/gretel_client/rest/api_client.py\u001b[0m in \u001b[0;36m__call_api\u001b[0;34m(self, resource_path, method, path_params, query_params, header_params, body, post_params, files, response_type, auth_settings, _return_http_data_only, collection_formats, _preload_content, _request_timeout, _host, _check_type)\u001b[0m\n\u001b[1;32m    211\u001b[0m         \u001b[0;32mexcept\u001b[0m \u001b[0mApiException\u001b[0m \u001b[0;32mas\u001b[0m \u001b[0me\u001b[0m\u001b[0;34m:\u001b[0m\u001b[0;34m\u001b[0m\u001b[0;34m\u001b[0m\u001b[0m\n\u001b[1;32m    212\u001b[0m             \u001b[0me\u001b[0m\u001b[0;34m.\u001b[0m\u001b[0mbody\u001b[0m \u001b[0;34m=\u001b[0m \u001b[0me\u001b[0m\u001b[0;34m.\u001b[0m\u001b[0mbody\u001b[0m\u001b[0;34m.\u001b[0m\u001b[0mdecode\u001b[0m\u001b[0;34m(\u001b[0m\u001b[0;34m\"utf-8\"\u001b[0m\u001b[0;34m)\u001b[0m\u001b[0;34m\u001b[0m\u001b[0;34m\u001b[0m\u001b[0m\n\u001b[0;32m--> 213\u001b[0;31m             \u001b[0;32mraise\u001b[0m \u001b[0me\u001b[0m\u001b[0;34m\u001b[0m\u001b[0;34m\u001b[0m\u001b[0m\n\u001b[0m\u001b[1;32m    214\u001b[0m \u001b[0;34m\u001b[0m\u001b[0m\n\u001b[1;32m    215\u001b[0m         \u001b[0mself\u001b[0m\u001b[0;34m.\u001b[0m\u001b[0mlast_response\u001b[0m \u001b[0;34m=\u001b[0m \u001b[0mresponse_data\u001b[0m\u001b[0;34m\u001b[0m\u001b[0;34m\u001b[0m\u001b[0m\n",
            "\u001b[0;32m/usr/local/lib/python3.9/dist-packages/gretel_client/rest/api_client.py\u001b[0m in \u001b[0;36m__call_api\u001b[0;34m(self, resource_path, method, path_params, query_params, header_params, body, post_params, files, response_type, auth_settings, _return_http_data_only, collection_formats, _preload_content, _request_timeout, _host, _check_type)\u001b[0m\n\u001b[1;32m    199\u001b[0m         \u001b[0;32mtry\u001b[0m\u001b[0;34m:\u001b[0m\u001b[0;34m\u001b[0m\u001b[0;34m\u001b[0m\u001b[0m\n\u001b[1;32m    200\u001b[0m             \u001b[0;31m# perform request and return response\u001b[0m\u001b[0;34m\u001b[0m\u001b[0;34m\u001b[0m\u001b[0m\n\u001b[0;32m--> 201\u001b[0;31m             response_data = self.request(\n\u001b[0m\u001b[1;32m    202\u001b[0m                 \u001b[0mmethod\u001b[0m\u001b[0;34m,\u001b[0m\u001b[0;34m\u001b[0m\u001b[0;34m\u001b[0m\u001b[0m\n\u001b[1;32m    203\u001b[0m                 \u001b[0murl\u001b[0m\u001b[0;34m,\u001b[0m\u001b[0;34m\u001b[0m\u001b[0;34m\u001b[0m\u001b[0m\n",
            "\u001b[0;32m/usr/local/lib/python3.9/dist-packages/gretel_client/rest/api_client.py\u001b[0m in \u001b[0;36mrequest\u001b[0;34m(self, method, url, query_params, headers, post_params, body, _preload_content, _request_timeout)\u001b[0m\n\u001b[1;32m    506\u001b[0m             )\n\u001b[1;32m    507\u001b[0m         \u001b[0;32melif\u001b[0m \u001b[0mmethod\u001b[0m \u001b[0;34m==\u001b[0m \u001b[0;34m\"POST\"\u001b[0m\u001b[0;34m:\u001b[0m\u001b[0;34m\u001b[0m\u001b[0;34m\u001b[0m\u001b[0m\n\u001b[0;32m--> 508\u001b[0;31m             return self.rest_client.POST(\n\u001b[0m\u001b[1;32m    509\u001b[0m                 \u001b[0murl\u001b[0m\u001b[0;34m,\u001b[0m\u001b[0;34m\u001b[0m\u001b[0;34m\u001b[0m\u001b[0m\n\u001b[1;32m    510\u001b[0m                 \u001b[0mquery_params\u001b[0m\u001b[0;34m=\u001b[0m\u001b[0mquery_params\u001b[0m\u001b[0;34m,\u001b[0m\u001b[0;34m\u001b[0m\u001b[0;34m\u001b[0m\u001b[0m\n",
            "\u001b[0;32m/usr/local/lib/python3.9/dist-packages/gretel_client/rest/rest.py\u001b[0m in \u001b[0;36mPOST\u001b[0;34m(self, url, headers, query_params, post_params, body, _preload_content, _request_timeout)\u001b[0m\n\u001b[1;32m    338\u001b[0m         \u001b[0m_request_timeout\u001b[0m\u001b[0;34m=\u001b[0m\u001b[0;32mNone\u001b[0m\u001b[0;34m,\u001b[0m\u001b[0;34m\u001b[0m\u001b[0;34m\u001b[0m\u001b[0m\n\u001b[1;32m    339\u001b[0m     ):\n\u001b[0;32m--> 340\u001b[0;31m         return self.request(\n\u001b[0m\u001b[1;32m    341\u001b[0m             \u001b[0;34m\"POST\"\u001b[0m\u001b[0;34m,\u001b[0m\u001b[0;34m\u001b[0m\u001b[0;34m\u001b[0m\u001b[0m\n\u001b[1;32m    342\u001b[0m             \u001b[0murl\u001b[0m\u001b[0;34m,\u001b[0m\u001b[0;34m\u001b[0m\u001b[0;34m\u001b[0m\u001b[0m\n",
            "\u001b[0;32m/usr/local/lib/python3.9/dist-packages/gretel_client/rest/rest.py\u001b[0m in \u001b[0;36mrequest\u001b[0;34m(self, method, url, query_params, headers, body, post_params, _preload_content, _request_timeout)\u001b[0m\n\u001b[1;32m    242\u001b[0m \u001b[0;34m\u001b[0m\u001b[0m\n\u001b[1;32m    243\u001b[0m             \u001b[0;32mif\u001b[0m \u001b[0mr\u001b[0m\u001b[0;34m.\u001b[0m\u001b[0mstatus\u001b[0m \u001b[0;34m==\u001b[0m \u001b[0;36m403\u001b[0m\u001b[0;34m:\u001b[0m\u001b[0;34m\u001b[0m\u001b[0;34m\u001b[0m\u001b[0m\n\u001b[0;32m--> 244\u001b[0;31m                 \u001b[0;32mraise\u001b[0m \u001b[0mForbiddenException\u001b[0m\u001b[0;34m(\u001b[0m\u001b[0mhttp_resp\u001b[0m\u001b[0;34m=\u001b[0m\u001b[0mr\u001b[0m\u001b[0;34m)\u001b[0m\u001b[0;34m\u001b[0m\u001b[0;34m\u001b[0m\u001b[0m\n\u001b[0m\u001b[1;32m    245\u001b[0m \u001b[0;34m\u001b[0m\u001b[0m\n\u001b[1;32m    246\u001b[0m             \u001b[0;32mif\u001b[0m \u001b[0mr\u001b[0m\u001b[0;34m.\u001b[0m\u001b[0mstatus\u001b[0m \u001b[0;34m==\u001b[0m \u001b[0;36m404\u001b[0m\u001b[0;34m:\u001b[0m\u001b[0;34m\u001b[0m\u001b[0;34m\u001b[0m\u001b[0m\n",
            "\u001b[0;31mForbiddenException\u001b[0m: (403)\nReason: Forbidden\nHTTP response headers: HTTPHeaderDict({'Content-Type': 'application/json', 'Content-Length': '98', 'Connection': 'keep-alive', 'Date': 'Thu, 13 Apr 2023 13:14:16 GMT', 'x-amzn-RequestId': '063cb57b-40e0-43d2-b743-6c96bb85d79c', 'Access-Control-Allow-Origin': '*', 'x-amz-apigw-id': 'DUT2YFVIvHcFoKQ=', 'X-Amzn-Trace-Id': 'Root=1-64380028-6275524d48186f0f22d65d74;Sampled=0;lineage=ee09e8e9:0|57b119ec:0', 'Access-Control-Allow-Credentials': 'true', 'X-Cache': 'Error from cloudfront', 'Via': '1.1 7fa75077148a5e108de410272ea8ccc4.cloudfront.net (CloudFront)', 'X-Amz-Cf-Pop': 'ORD52-C2', 'X-Amz-Cf-Id': 'G3gIyymaKjNxvWRq2CvTMw0v-3DLwWdYZOg3lJ-0mY9ANFS511_xjA=='})\nHTTP response body: {\"message\": \"Cannot run job, credits exhausted.\", \"context\": {}, \"error_id\": \"free_tier_exceeded\"}\n"
          ]
        }
      ],
      "source": [
        "multitable.generate(record_size_ratio=1)       # To adjust the amount of data generated, change record_size_ratio parameter\n",
        "    "
      ]
    },
    {
      "cell_type": "markdown",
      "metadata": {
        "id": "DUQDctnvBQbW"
      },
      "source": [
        "## View Results"
      ]
    },
    {
      "cell_type": "code",
      "source": [
        "#@title Compare an individual table\n",
        "table = \"store\" #@param {type:\"string\"}\n",
        "from IPython.display import display, HTML\n",
        "\n",
        "\n",
        "source_table = multitable.relational_data.get_table_data(table).head(5)\n",
        "synth_table = multitable.synthetic_output_tables[table][source_table.columns].head(5)\n",
        "print(\"\\033[1m Source Table:\")\n",
        "display(source_table)\n",
        "print(\"\\n\\n\\033[1m Synthesized Table:\")\n",
        "display(synth_table)"
      ],
      "metadata": {
        "id": "ih0BXletmGKw",
        "collapsed": true,
        "cellView": "form"
      },
      "execution_count": null,
      "outputs": []
    },
    {
      "cell_type": "code",
      "source": [
        "#@title Examine joined tables to confirm referential integrity\n",
        "#@markdown As with the original data, every record in the synthesized child table matches a distinct record in its synthesized parent table. The number of records in the joined data matches the number of records in the child table, confirming referential integrity has been maintained in the synthetic database.\n",
        "import logging \n",
        "from IPython.display import display, HTML\n",
        "\n",
        "def join_synth_tables(parent: str, child: str, multitable=multitable): \n",
        "  p_key = multitable.relational_data.get_primary_key(parent)\n",
        "  f_key = \"\"\n",
        "  for fk in multitable.relational_data.get_foreign_keys(child):\n",
        "    if fk.parent_table_name==parent:\n",
        "      f_key=fk.column_name\n",
        "    else:\n",
        "      logging.warning(\"The input parent and child table must be related.\")\n",
        "  \n",
        "  parent_df = multitable.synthetic_output_tables[parent]\n",
        "  child_df = multitable.synthetic_output_tables[child]\n",
        "\n",
        "  joined_data = child_df.merge(parent_df, how=\"left\", left_on=p_key, right_on=f_key)\n",
        "\n",
        "  print(f\"Number of records in {child} table:\\t {len(child_df)}\")\n",
        "  print(f\"Number of records in {parent} table:\\t {len(parent_df)}\")\n",
        "  print(f\"Number of records in joined data:\\t {len(joined_data)}\")\n",
        "  return joined_data.head()\n",
        "\n",
        "\n",
        "parent_table = \"store\" #@param {type:\"string\"}\n",
        "child_table = \"sales\" #@param {type:\"string\"}\n",
        "\n",
        "print(\"\\n\\n\\033[1m Synthesized Data:\\033[0m\")\n",
        "display(join_synth_tables(parent_table, child_table)[source_data.columns])"
      ],
      "metadata": {
        "cellView": "form",
        "id": "onQlVAPFIfwF"
      },
      "execution_count": null,
      "outputs": []
    },
    {
      "cell_type": "markdown",
      "source": [
        "### View Gretel Relational Report\n",
        "Each synthetic database generation creates a [Gretel Relational Report](https://docs.gretel.ai/reference/relational/gretel-relational-report), which provides unique accuracy and privacy scores to help you verify the quality of your synthetic database. \n",
        "\n",
        "In addition to overall database scores, the report provides table-level insights that measure how well both in-table and cross-table relationships are maintained. Individual and cross-table synthetic reports are generated for each table, and can be found in your working directory."
      ],
      "metadata": {
        "id": "4NJPu4L0YF4J"
      }
    },
    {
      "cell_type": "code",
      "execution_count": null,
      "metadata": {
        "id": "hh9UESGCBTX4"
      },
      "outputs": [],
      "source": [
        "# View relational report\n",
        "import IPython\n",
        "from smart_open import open\n",
        "\n",
        "report_path = str(multitable._working_dir / multitable._synthetics_run.identifier / \"relational_report.html\")\n",
        "\n",
        "IPython.display.HTML(data=open(report_path).read())"
      ]
    },
    {
      "cell_type": "code",
      "source": [
        "#@title Accessing Output Files\n",
        "#@markdown All of the Relational Synthetics output files can be found in your local working directory. Additionally, you can download the outputs as a single archive file from the Gretel Console using this URL:\n",
        "console_url = f\"https://console.gretel.ai/{multitable._project.name}/data_sources\"\n",
        "print(console_url)"
      ],
      "metadata": {
        "id": "yGUxVzdlDqyg"
      },
      "execution_count": null,
      "outputs": []
    },
    {
      "cell_type": "markdown",
      "source": [
        "## [Optional] Save Synthesized Data to a Database"
      ],
      "metadata": {
        "id": "R6uTKjYnhhx0"
      }
    },
    {
      "cell_type": "code",
      "source": [
        "# output_db_path = \"synthetic_telecom.db\"\n",
        "# output_conn = sqlite_conn(output_db_path)\n",
        "# output_conn.save(\n",
        "#     multitable.synthetic_output_tables,\n",
        "#     prefix=\"synth_\"\n",
        "#     )"
      ],
      "metadata": {
        "id": "T4f6hlvwhxoM"
      },
      "execution_count": null,
      "outputs": []
    }
  ],
  "metadata": {
    "colab": {
      "provenance": []
    },
    "kernelspec": {
      "display_name": "Python 3",
      "language": "python",
      "name": "python3"
    },
    "language_info": {
      "codemirror_mode": {
        "name": "ipython",
        "version": 3
      },
      "file_extension": ".py",
      "mimetype": "text/x-python",
      "name": "python",
      "nbconvert_exporter": "python",
      "pygments_lexer": "ipython3",
      "version": "3.9.10 (main, Jun 23 2022, 15:36:57) \n[Clang 13.1.6 (clang-1316.0.21.2.5)]"
    },
    "vscode": {
      "interpreter": {
        "hash": "2bdb4985d2c4ccdd9da3d80dbbcd61329f4e8765a7715ea050d7419e0fe0515c"
      }
    },
    "gpuClass": "standard"
  },
  "nbformat": 4,
  "nbformat_minor": 0
}