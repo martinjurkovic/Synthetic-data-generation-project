{
 "cells": [
  {
   "cell_type": "code",
   "execution_count": 17,
   "metadata": {},
   "outputs": [],
   "source": [
    "import os\n",
    "import json\n",
    "import pandas as pd\n",
    "from sdv.utils import display_tables\n",
    "from sdv.evaluation import evaluate"
   ]
  },
  {
   "cell_type": "code",
   "execution_count": 15,
   "metadata": {},
   "outputs": [],
   "source": [
    "def read_tables(path):\n",
    "    tables = {}\n",
    "    for file in os.listdir(path):\n",
    "        if file.endswith(\".csv\"):\n",
    "            table_name = file[:-4].split(\"-\")[-1]\n",
    "            table = pd.read_csv(path + file)\n",
    "            tables[table_name] = table\n",
    "    return tables"
   ]
  },
  {
   "cell_type": "code",
   "execution_count": 16,
   "metadata": {},
   "outputs": [],
   "source": [
    "real_data = read_tables(\"../data/zurich_source/\")\n",
    "synthetic_data = read_tables(\"../data/zurich_synthetic/\")"
   ]
  },
  {
   "cell_type": "code",
   "execution_count": 18,
   "metadata": {},
   "outputs": [],
   "source": [
    "# read metadata from ../models/zurich-sdv-metadata.json\n",
    "metadata_name = '../models/zurich-sdv-1.0-metadata.json'\n",
    "with open(metadata_name) as metadata_file:\n",
    "    metadata = json.load(metadata_file)"
   ]
  },
  {
   "attachments": {},
   "cell_type": "markdown",
   "metadata": {},
   "source": [
    "The complete list of possible metrics is:\n",
    "\n",
    "-   `cstest`: This metric compares the distributions of all the\n",
    "    categorical columns of the table by using a Chi-squared test and\n",
    "    returns the average of the `p-values` obtained across all the\n",
    "    columns. If the tables that you are evaluating do not contain any\n",
    "    categorical columns the result will be `nan`.\n",
    "-   `kscomplement`: This metric compares the distributions of all the\n",
    "    numerical columns of the table with a two-sample Kolmogorov-Smirnov\n",
    "    test using the empirical CDF and returns the average of the\n",
    "    KS statistic values obtained across all the columns. If the tables\n",
    "    that you are evaluating do not contain any numerical columns the result\n",
    "    will be `nan`.\n",
    "-   `logistic_detection`: This metric tries to use a Logistic Regression\n",
    "    classifier to detect whether each row is real or synthetic and then\n",
    "    evaluates its performance using an Area under the ROC curve metric.\n",
    "    The returned score is 1 minus the ROC AUC score obtained by the\n",
    "    classifier.\n",
    "-   `svc_detection`: This metric tries to use an Support Vector\n",
    "    Classifier to detect whether each row is real or synthetic and then\n",
    "    evaluates its performance using an Area under the ROC curve metric.\n",
    "    The returned score is 1 minus the ROC AUC score obtained by the\n",
    "    classifier."
   ]
  },
  {
   "cell_type": "code",
   "execution_count": 21,
   "metadata": {},
   "outputs": [
    {
     "data": {
      "text/html": [
       "<div>\n",
       "<style scoped>\n",
       "    .dataframe tbody tr th:only-of-type {\n",
       "        vertical-align: middle;\n",
       "    }\n",
       "\n",
       "    .dataframe tbody tr th {\n",
       "        vertical-align: top;\n",
       "    }\n",
       "\n",
       "    .dataframe thead th {\n",
       "        text-align: right;\n",
       "    }\n",
       "</style>\n",
       "<table border=\"1\" class=\"dataframe\">\n",
       "  <thead>\n",
       "    <tr style=\"text-align: right;\">\n",
       "      <th></th>\n",
       "      <th>metric</th>\n",
       "      <th>name</th>\n",
       "      <th>raw_score</th>\n",
       "      <th>normalized_score</th>\n",
       "      <th>min_value</th>\n",
       "      <th>max_value</th>\n",
       "      <th>goal</th>\n",
       "      <th>error</th>\n",
       "    </tr>\n",
       "  </thead>\n",
       "  <tbody>\n",
       "    <tr>\n",
       "      <th>0</th>\n",
       "      <td>KSComplement</td>\n",
       "      <td>Inverted Kolmogorov-Smirnov D statistic</td>\n",
       "      <td>0.547242</td>\n",
       "      <td>0.547242</td>\n",
       "      <td>0.0</td>\n",
       "      <td>1.0</td>\n",
       "      <td>MAXIMIZE</td>\n",
       "      <td>None</td>\n",
       "    </tr>\n",
       "    <tr>\n",
       "      <th>1</th>\n",
       "      <td>CSTest</td>\n",
       "      <td>Chi-Squared</td>\n",
       "      <td>0.975976</td>\n",
       "      <td>0.975976</td>\n",
       "      <td>0.0</td>\n",
       "      <td>1.0</td>\n",
       "      <td>MAXIMIZE</td>\n",
       "      <td>None</td>\n",
       "    </tr>\n",
       "  </tbody>\n",
       "</table>\n",
       "</div>"
      ],
      "text/plain": [
       "         metric                                     name  raw_score  \\\n",
       "0  KSComplement  Inverted Kolmogorov-Smirnov D statistic   0.547242   \n",
       "1        CSTest                              Chi-Squared   0.975976   \n",
       "\n",
       "   normalized_score  min_value  max_value      goal error  \n",
       "0          0.547242        0.0        1.0  MAXIMIZE  None  \n",
       "1          0.975976        0.0        1.0  MAXIMIZE  None  "
      ]
     },
     "execution_count": 21,
     "metadata": {},
     "output_type": "execute_result"
    }
   ],
   "source": [
    "evaluate(\n",
    "    synthetic_data,\n",
    "    real_data,\n",
    "    aggregate=False,\n",
    "    metadata=metadata)\n"
   ]
  }
 ],
 "metadata": {
  "kernelspec": {
   "display_name": "ds_project",
   "language": "python",
   "name": "python3"
  },
  "language_info": {
   "codemirror_mode": {
    "name": "ipython",
    "version": 3
   },
   "file_extension": ".py",
   "mimetype": "text/x-python",
   "name": "python",
   "nbconvert_exporter": "python",
   "pygments_lexer": "ipython3",
   "version": "3.8.12"
  },
  "orig_nbformat": 4
 },
 "nbformat": 4,
 "nbformat_minor": 2
}
